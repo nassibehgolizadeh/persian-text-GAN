{
 "cells": [
  {
   "cell_type": "code",
   "execution_count": 1,
   "metadata": {},
   "outputs": [],
   "source": [
    "from utils.metrics.Bleu import Bleu\n",
    "import numpy as np"
   ]
  },
  {
   "cell_type": "code",
   "execution_count": 32,
   "metadata": {},
   "outputs": [
    {
     "name": "stdout",
     "output_type": "stream",
     "text": [
      "8133\n"
     ]
    }
   ],
   "source": [
    "x=[]\n",
    "with open('my.txt' , 'r' , encoding='utf-8') as f:\n",
    "    for line in f:\n",
    "        x.append(line)\n",
    "print(len(x))    "
   ]
  },
  {
   "cell_type": "code",
   "execution_count": 33,
   "metadata": {},
   "outputs": [
    {
     "name": "stdout",
     "output_type": "stream",
     "text": [
      "9984\n"
     ]
    }
   ],
   "source": [
    "y=[]\n",
    "with open('test_file.txt' , 'r' , encoding='utf-8') as f:\n",
    "    for line in f:\n",
    "        y.append(line)\n",
    "print(len(y))"
   ]
  },
  {
   "cell_type": "code",
   "execution_count": 2,
   "metadata": {},
   "outputs": [],
   "source": [
    "a=Bleu('test_file.txt','my.txt')"
   ]
  },
  {
   "cell_type": "code",
   "execution_count": 35,
   "metadata": {},
   "outputs": [
    {
     "name": "stdout",
     "output_type": "stream",
     "text": [
      "نمونه و طراحی برشمرده افزار . \n",
      "\n"
     ]
    }
   ],
   "source": [
    "print((y[2]))"
   ]
  },
  {
   "cell_type": "code",
   "execution_count": 7,
   "metadata": {},
   "outputs": [
    {
     "ename": "NameError",
     "evalue": "name 'get_bleu_parallel' is not defined",
     "output_type": "error",
     "traceback": [
      "\u001b[1;31m---------------------------------------------------------------------------\u001b[0m",
      "\u001b[1;31mNameError\u001b[0m                                 Traceback (most recent call last)",
      "\u001b[1;32m<ipython-input-7-5c6fc1ab0921>\u001b[0m in \u001b[0;36m<module>\u001b[1;34m\u001b[0m\n\u001b[1;32m----> 1\u001b[1;33m \u001b[0mprint\u001b[0m\u001b[1;33m(\u001b[0m\u001b[0mget_bleu_parallel\u001b[0m\u001b[1;33m(\u001b[0m\u001b[1;33m)\u001b[0m\u001b[1;33m)\u001b[0m\u001b[1;33m\u001b[0m\u001b[1;33m\u001b[0m\u001b[0m\n\u001b[0m",
      "\u001b[1;31mNameError\u001b[0m: name 'get_bleu_parallel' is not defined"
     ]
    }
   ],
   "source": [
    "print(get_bleu_parallel())"
   ]
  },
  {
   "cell_type": "code",
   "execution_count": null,
   "metadata": {},
   "outputs": [],
   "source": [
    "import os\n",
    "from multiprocessing import Pool\n",
    "\n",
    "import nltk\n",
    "from nltk.translate.bleu_score import SmoothingFunction\n",
    "\n",
    "from utils.metrics.Metrics import Metrics\n",
    "\n",
    "\n",
    "class Bleu(Metrics):\n",
    "    def __init__(self, test_text='', real_text='', gram=3):\n",
    "        super().__init__()\n",
    "        self.name = 'Bleu'\n",
    "        self.test_data = test_text\n",
    "        self.real_data = real_text\n",
    "        self.gram = gram\n",
    "        self.sample_size = 500\n",
    "        self.reference = None\n",
    "        self.is_first = True\n",
    "\n",
    "    def get_name(self):\n",
    "        return self.name\n",
    "\n",
    "    def get_score(self, is_fast=True, ignore=False):\n",
    "        if ignore:\n",
    "            return 0\n",
    "        if self.is_first:\n",
    "            self.get_reference()\n",
    "            self.is_first = False\n",
    "        if is_fast:\n",
    "            return self.get_bleu_fast()\n",
    "        return self.get_bleu_parallel()\n",
    "\n",
    "    def get_reference(self):\n",
    "        if self.reference is None:\n",
    "            reference = list()\n",
    "            with open(self.real_data ,'r' ,encoding='utf-8') as real_data:\n",
    "                for text in real_data:\n",
    "                    text = nltk.word_tokenize(text)\n",
    "                    reference.append(text)\n",
    "            self.reference = reference\n",
    "            return reference\n",
    "        else:\n",
    "            return self.reference\n",
    "\n",
    "    def get_bleu(self):\n",
    "        ngram = self.gram\n",
    "        bleu = list()\n",
    "        reference = self.get_reference()\n",
    "        weight = tuple((1. / ngram for _ in range(ngram)))\n",
    "        with open(self.test_data , encoding='utf-8') as test_data:\n",
    "            for hypothesis in test_data:\n",
    "                hypothesis = nltk.word_tokenize(hypothesis)\n",
    "                bleu.append(nltk.translate.bleu_score.sentence_bleu(reference, hypothesis, weight,\n",
    "                                                                    smoothing_function=SmoothingFunction().method1))\n",
    "        return sum(bleu) / len(bleu)\n",
    "\n",
    "    def calc_bleu(self, reference, hypothesis, weight):\n",
    "        return nltk.translate.bleu_score.sentence_bleu(reference, hypothesis, weight,\n",
    "                                                       smoothing_function=SmoothingFunction().method1)\n",
    "\n",
    "    def get_bleu_fast(self):\n",
    "        reference = self.get_reference()\n",
    "        # random.shuffle(reference)\n",
    "        reference = reference[0:self.sample_size]\n",
    "        return self.get_bleu_parallel(reference=reference)\n",
    "\n",
    "    def get_bleu_parallel(self, reference=None):\n",
    "        ngram = self.gram\n",
    "        if reference is None:\n",
    "            reference = self.get_reference()\n",
    "        weight = tuple((1. / ngram for _ in range(ngram)))\n",
    "        pool = Pool(os.cpu_count())\n",
    "        result = list()\n",
    "        with open(self.test_data,encoding='utf-8') as test_data:\n",
    "            for hypothesis in test_data:\n",
    "                hypothesis = nltk.word_tokenize(hypothesis)\n",
    "                result.append(pool.apply_async(self.calc_bleu, args=(reference, hypothesis, weight)))\n",
    "        score = 0.0\n",
    "        cnt = 0\n",
    "        for i in result:\n",
    "            score += i.get()\n",
    "            cnt += 1\n",
    "        pool.close()\n",
    "        pool.join()\n",
    "        return score / cnt\n"
   ]
  },
  {
   "cell_type": "code",
   "execution_count": 5,
   "metadata": {},
   "outputs": [],
   "source": [
    "def get_bleu_parallel( test_data,reference=None):\n",
    "    ngram = 3\n",
    "    if reference is None:\n",
    "        reference = get_reference(real_data,reference=None)\n",
    "    weight = tuple((1. / ngram for _ in range(ngram)))\n",
    "    pool = Pool(os.cpu_count())\n",
    "    result = list()\n",
    "    with open(test_data,encoding='utf-8') as test_data:\n",
    "        for hypothesis in test_data:\n",
    "            hypothesis = nltk.word_tokenize(hypothesis)\n",
    "            result.append(pool.apply_async(calc_bleu, args=(reference, hypothesis, weight)))\n",
    "    score = 0.0\n",
    "    cnt = 0\n",
    "    for i in result:\n",
    "        score += i.get()\n",
    "        cnt += 1\n",
    "    pool.close()\n",
    "    pool.join()\n",
    "    return score / cnt"
   ]
  },
  {
   "cell_type": "code",
   "execution_count": 6,
   "metadata": {},
   "outputs": [],
   "source": [
    "import os\n",
    "from multiprocessing import Pool\n",
    "\n",
    "import nltk\n",
    "from nltk.translate.bleu_score import SmoothingFunction"
   ]
  },
  {
   "cell_type": "code",
   "execution_count": null,
   "metadata": {},
   "outputs": [],
   "source": [
    "a=get_bleu_parallel(test_data, reference=None)"
   ]
  },
  {
   "cell_type": "code",
   "execution_count": 3,
   "metadata": {},
   "outputs": [],
   "source": [
    "def get_reference(real_data,reference=None):\n",
    "    if reference is None:\n",
    "        reference = list()\n",
    "        with open(real_data ,'r' ,encoding='utf-8') as real_data:\n",
    "            for text in real_data:\n",
    "                text = nltk.word_tokenize(text)\n",
    "                reference.append(text)\n",
    "        reference = reference\n",
    "        return reference\n",
    "    else:\n",
    "        return self.reference"
   ]
  },
  {
   "cell_type": "code",
   "execution_count": 19,
   "metadata": {},
   "outputs": [],
   "source": [
    "real_data='oracle.txt'\n",
    "test_data='generator.txt'\n",
    "weight = tuple((1. / 4 for _ in range(4)))"
   ]
  },
  {
   "cell_type": "code",
   "execution_count": 20,
   "metadata": {},
   "outputs": [
    {
     "name": "stdout",
     "output_type": "stream",
     "text": [
      "(0.25, 0.25, 0.25, 0.25)\n"
     ]
    }
   ],
   "source": [
    "print(weight)"
   ]
  },
  {
   "cell_type": "code",
   "execution_count": 7,
   "metadata": {},
   "outputs": [],
   "source": [
    "reference = list()\n",
    "with open(real_data ,'r' ,encoding='utf-8') as real_data:\n",
    "    for text in real_data:\n",
    "        reference.append(text)\n"
   ]
  },
  {
   "cell_type": "code",
   "execution_count": 10,
   "metadata": {},
   "outputs": [],
   "source": [
    "hypothesis = list()\n",
    "with open(test_data ,'r' ,encoding='utf-8') as test_data:\n",
    "    for text in test_data:\n",
    "        hypothesis.append(text)"
   ]
  },
  {
   "cell_type": "code",
   "execution_count": 11,
   "metadata": {},
   "outputs": [
    {
     "name": "stdout",
     "output_type": "stream",
     "text": [
      "3373 2663 87 4460 4796 462 2534 2475 3568 1960 426 296 4221 3624 3200 830 4914 821 2358 2391\n",
      "\n"
     ]
    }
   ],
   "source": [
    "print(hypothesis[1])"
   ]
  },
  {
   "cell_type": "code",
   "execution_count": 22,
   "metadata": {},
   "outputs": [
    {
     "data": {
      "text/plain": [
       "0.9246857074562799"
      ]
     },
     "execution_count": 22,
     "metadata": {},
     "output_type": "execute_result"
    }
   ],
   "source": [
    "nltk.translate.bleu_score.sentence_bleu(reference[:100], hypothesis[9], weight)"
   ]
  },
  {
   "cell_type": "code",
   "execution_count": null,
   "metadata": {},
   "outputs": [],
   "source": [
    "result = list()\n",
    "with open(test_data,encoding='utf-8') as test_data:\n",
    "    for hypothesis in test_data:\n",
    "        result.append(pool.apply_async(calc_bleu, args=(reference, hypothesis, weight)))"
   ]
  }
 ],
 "metadata": {
  "kernelspec": {
   "display_name": "Python 3",
   "language": "python",
   "name": "python3"
  },
  "language_info": {
   "codemirror_mode": {
    "name": "ipython",
    "version": 3
   },
   "file_extension": ".py",
   "mimetype": "text/x-python",
   "name": "python",
   "nbconvert_exporter": "python",
   "pygments_lexer": "ipython3",
   "version": "3.7.2"
  }
 },
 "nbformat": 4,
 "nbformat_minor": 2
}
